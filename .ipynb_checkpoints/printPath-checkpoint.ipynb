{
 "cells": [
  {
   "cell_type": "code",
   "execution_count": 240,
   "metadata": {
    "collapsed": false
   },
   "outputs": [
    {
     "name": "stdout",
     "output_type": "stream",
     "text": [
      "[[' ', ' ', ' ', ' ', ' ', ' '], ['v', ' ', ' ', '^', '^', '^'], ['v', ' ', ' ', '^', ' ', '^'], ['v', ' ', ' ', '^', ' ', 'v'], ['v', '>', '>', '>', ' ', 'v']]\n"
     ]
    }
   ],
   "source": [
    "# -----------\n",
    "# User Instructions:\n",
    "# \n",
    "# Modify the function search so that it returns\n",
    "# a table of values called expand. This table\n",
    "# will keep track of which step each node was\n",
    "# expanded.\n",
    "#\n",
    "# Make sure that the initial cell in the grid \n",
    "# you return has the value 0.\n",
    "# ----------\n",
    "import numpy as np\n",
    "grid = [[0, 0, 1, 0, 0, 0],\n",
    "        [0, 0, 1, 0, 0, 0],\n",
    "        [0, 0, 1, 0, 1, 0],\n",
    "        [0, 0, 1, 0, 1, 0],\n",
    "        [0, 0, 0, 0, 1, 0]]\n",
    "\n",
    "\n",
    "pathGrid = [[' ' for col in range(len(grid[0]))] for row in range(len(grid))]\n",
    "\n",
    "blankGrid = np.empty_like(grid)\n",
    "# pathGrid = np.ones_like(grid)\n",
    "\n",
    "\n",
    "init = [0, 0]\n",
    "goal = [len(grid)-1, len(grid[0])-1]\n",
    "cost = 1\n",
    "\n",
    "delta = [[-1, 0], # go up\n",
    "         [ 0,-1], # go left\n",
    "         [ 1, 0], # go down\n",
    "         [ 0, 1]] # go right\n",
    "\n",
    "delta_name = ['^', '<', 'v', '>']\n",
    "    \n",
    "    \n",
    "def search(grid,init,goal,cost):\n",
    "    currentStates = [[0] + init]\n",
    "    markedSpaces = []\n",
    "    markedSpaces.append(init)\n",
    "    expand = np.zeros_like(grid)  \n",
    "    expand = np.ones_like(grid) * -1\n",
    "    expandCounter = 1\n",
    "    expand[init[0]][init[1]] = 0\n",
    "    g = True\n",
    "    arrowPath= []\n",
    "    while g:\n",
    "        nextSpaces = []\n",
    "\n",
    "        # if there are no next steps available, and goal not reached\n",
    "        if len(currentStates) == 0:\n",
    "            print(\"No Path\")\n",
    "            break\n",
    "\n",
    "\n",
    "        # iterates over path\n",
    "\n",
    "        c = currentStates[0]\n",
    "        markedSpaces.append(c[1:])\n",
    "        \n",
    "        # if goal is reached\n",
    "        if c[1:] == goal:\n",
    "            path = c\n",
    "            g = False\n",
    "            break\n",
    "        # canMoveUp\n",
    "        a = 0\n",
    "        pointer = []\n",
    "        for d in delta:\n",
    "            nextMove = [c[1] + d[0], c[2] + d[1]]\n",
    "            if (nextMove[0] >= 0 and nextMove[0] < len(grid)) and \\\n",
    "            (nextMove[1] >= 0 and nextMove[1] < len(grid[0])) and \\\n",
    "            grid[nextMove[0]][nextMove[1]] == 0:\n",
    "                if nextMove not in markedSpaces:\n",
    "\n",
    "                    nextSpaces.append([c[0] + cost] + nextMove)\n",
    "                    markedSpaces.append(nextMove)   \n",
    "                    expand[nextMove[0]][nextMove[1]] = expandCounter\n",
    "                    expandCounter += 1\n",
    "                    pointer.append(delta_name[a])\n",
    "            a += 1  \n",
    "        # totally pointless, sonce n[0] will be the same for all elements \n",
    "\n",
    "        currentStates = [n for n in nextSpaces if n[0] == min([n[0] for n in nextSpaces])]\n",
    "        currentStates.sort(reverse=True)\n",
    "        \n",
    "        arrowPath.append([x for _,x in sorted(zip(currentStates,pointer), reverse=True)][0])\n",
    "        currentStates.sort(reverse = True)\n",
    "        pathGrid[currentStates[0][1]][currentStates[0][2]] =  [x for _,x in sorted(zip(currentStates,pointer), reverse=True)][0]\n",
    "\n",
    "    \n",
    "    \n",
    "    return pathGrid\n",
    "\n",
    "\n",
    "print(search(grid,init,goal,cost))\n"
   ]
  },
  {
   "cell_type": "code",
   "execution_count": 6,
   "metadata": {
    "collapsed": true
   },
   "outputs": [],
   "source": []
  },
  {
   "cell_type": "code",
   "execution_count": 213,
   "metadata": {
    "collapsed": false
   },
   "outputs": [
    {
     "data": {
      "text/plain": [
       "[[' ', ' ', ' ', ' ', ' ', ' '],\n",
       " [' ', ' ', ' ', ' ', ' ', ' '],\n",
       " [' ', ' ', ' ', ' ', ' ', ' '],\n",
       " [' ', ' ', ' ', ' ', ' ', ' '],\n",
       " [' ', ' ', ' ', ' ', ' ', ' ']]"
      ]
     },
     "execution_count": 213,
     "metadata": {},
     "output_type": "execute_result"
    }
   ],
   "source": [
    "grid = [[0, 0, 1, 0, 0, 0],\n",
    "        [0, 0, 1, 0, 0, 0],\n",
    "        [0, 0, 1, 0, 1, 0],\n",
    "        [0, 0, 1, 0, 1, 0],\n",
    "        [0, 0, 0, 0, 1, 0]]\n",
    "\n",
    "\n"
   ]
  }
 ],
 "metadata": {
  "anaconda-cloud": {},
  "kernelspec": {
   "display_name": "Python [default]",
   "language": "python",
   "name": "python3"
  },
  "language_info": {
   "codemirror_mode": {
    "name": "ipython",
    "version": 3
   },
   "file_extension": ".py",
   "mimetype": "text/x-python",
   "name": "python",
   "nbconvert_exporter": "python",
   "pygments_lexer": "ipython3",
   "version": "3.5.2"
  }
 },
 "nbformat": 4,
 "nbformat_minor": 2
}
