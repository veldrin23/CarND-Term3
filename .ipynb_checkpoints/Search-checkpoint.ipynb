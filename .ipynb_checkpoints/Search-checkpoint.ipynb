{
 "cells": [
  {
   "cell_type": "code",
   "execution_count": 7,
   "metadata": {
    "collapsed": false
   },
   "outputs": [
    {
     "data": {
      "text/plain": [
       "[15, 4, 5]"
      ]
     },
     "execution_count": 7,
     "metadata": {},
     "output_type": "execute_result"
    }
   ],
   "source": [
    "# ----------\n",
    "# User Instructions:\n",
    "# \n",
    "# Define a function, search() that returns a list\n",
    "# in the form of [optimal path length, row, col]. For\n",
    "# the grid shown below, your function should output\n",
    "# [11, 4, 5].\n",
    "#\n",
    "# If there is no valid path from the start point\n",
    "# to the goal, your function should return the string\n",
    "# 'fail'\n",
    "# ----------\n",
    "\n",
    "# Grid format:\n",
    "#   0 = Navigable space\n",
    "#   1 = Occupied space\n",
    "\n",
    "grid = [[0, 0, 1, 0, 0, 0],\n",
    "        [0, 0, 1, 0, 0, 0],\n",
    "        [0, 0, 1, 0, 1, 0],\n",
    "        [0, 0, 1, 0, 1, 0],\n",
    "        [0, 0, 0, 0, 1, 0]]\n",
    "\n",
    "init = [0, 0]\n",
    "goal = [len(grid)-1, len(grid[0])-1]\n",
    "cost = 1\n",
    "\n",
    "delta = [[-1, 0], # go up\n",
    "         [ 0,-1], # go left\n",
    "         [ 1, 0], # go down\n",
    "         [ 0, 1]] # go right\n",
    "\n",
    "delta_name = ['^', '<', 'v', '>']\n",
    "\n",
    "\n",
    "## My solution\n",
    "def search(grid,init,goal,cost):\n",
    "    currentStates = [[0] + init]\n",
    "    markedSpaces = []\n",
    "    markedSpaces.append(init)\n",
    "    \n",
    "    g = True\n",
    "    while g:\n",
    "        nextSpaces = []\n",
    "        \n",
    "        # if there are no next steps available, and goal not reached\n",
    "        if len(currentStates) == 0:\n",
    "            path = \"No Path\"\n",
    "            break\n",
    "\n",
    "        # iterates over path\n",
    "        for c in currentStates:\n",
    "            markedSpaces.append(c[1:])\n",
    "\n",
    "            # if goal is reached\n",
    "            if c[1:] == goal:\n",
    "                path = c\n",
    "                g = False\n",
    "                \n",
    "            # canMoveUp\n",
    "            if (c[1] != 0) and (grid[c[1]-1][c[2]] == 0):\n",
    "                nextMove = [c[1] - 1, c[2]]       \n",
    "                if nextMove not in markedSpaces:\n",
    "                    nextSpaces.append([c[0] + cost] + nextMove)\n",
    "                    markedSpaces.append(nextMove)   \n",
    "                    \n",
    "            # canMoveRight\n",
    "            if (c[2] != len(grid[0]) -1) and (grid[c[1]][c[2]+1] == 0):\n",
    "                nextMove = [c[1], c[2]+1]\n",
    "                if nextMove not in markedSpaces:\n",
    "                    nextSpaces.append([c[0] + cost] + nextMove)\n",
    "                    markedSpaces.append(nextMove)   \n",
    "\n",
    "                               \n",
    "            # canMoveDown\n",
    "            if (c[1] != (len(grid) -1)) and (grid[c[1] + 1][c[2]] == 0):\n",
    "                nextMove = [c[1] + 1, c[2]]       \n",
    "                if nextMove not in markedSpaces:\n",
    "                    nextSpaces.append([c[0] + cost] + nextMove)\n",
    "                    markedSpaces.append(nextMove)   \n",
    "\n",
    "                \n",
    "            # canMoveLeft\n",
    "            if (c[2] != 0) and (grid[c[1]][c[2] - 1] == 0):\n",
    "                nextMove = [c[1], c[2]-1]\n",
    "                if nextMove not in markedSpaces:\n",
    "                    nextSpaces.append([c[0] + cost] + nextMove)\n",
    "                    markedSpaces.append(nextMove)   \n",
    "            \n",
    "        # totally pointless, sonce n[0] will be the same for all elements \n",
    "        currentStates = [n for n in nextSpaces if n[0] == min([n[0] for n in nextSpaces])]\n",
    "        \n",
    "        \n",
    "\n",
    "    return path\n",
    "\n",
    "\n",
    "search(grid,init,goal,cost)"
   ]
  },
  {
   "cell_type": "code",
   "execution_count": 159,
   "metadata": {
    "collapsed": true
   },
   "outputs": [],
   "source": [
    "nextSpaces = [[1, 0, 1], [1, 1, 0]]"
   ]
  },
  {
   "cell_type": "code",
   "execution_count": 163,
   "metadata": {
    "collapsed": false
   },
   "outputs": [
    {
     "data": {
      "text/plain": [
       "[[1, 0, 1], [1, 1, 0]]"
      ]
     },
     "execution_count": 163,
     "metadata": {},
     "output_type": "execute_result"
    }
   ],
   "source": [
    "\n",
    "\n",
    "[n for n in nextSpaces if n[0] == min([n[0] for n in nextSpaces])]\n"
   ]
  }
 ],
 "metadata": {
  "anaconda-cloud": {},
  "kernelspec": {
   "display_name": "Python [default]",
   "language": "python",
   "name": "python3"
  },
  "language_info": {
   "codemirror_mode": {
    "name": "ipython",
    "version": 3
   },
   "file_extension": ".py",
   "mimetype": "text/x-python",
   "name": "python",
   "nbconvert_exporter": "python",
   "pygments_lexer": "ipython3",
   "version": "3.5.2"
  }
 },
 "nbformat": 4,
 "nbformat_minor": 2
}
